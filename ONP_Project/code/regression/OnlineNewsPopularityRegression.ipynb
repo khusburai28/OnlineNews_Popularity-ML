{
  "nbformat": 4,
  "nbformat_minor": 0,
  "metadata": {
    "colab": {
      "provenance": []
    },
    "kernelspec": {
      "name": "python3",
      "display_name": "Python 3"
    },
    "language_info": {
      "name": "python"
    }
  },
  "cells": [
    {
      "cell_type": "code",
      "source": [
        "# Import necessary libraries\n",
        "import pandas as pd\n",
        "import numpy as np\n",
        "import requests\n",
        "import io\n",
        "import zipfile\n",
        "from sklearn.model_selection import train_test_split\n",
        "from sklearn.linear_model import LinearRegression, LogisticRegression\n",
        "from sklearn.linear_model import Lasso, Ridge\n",
        "from sklearn.ensemble import RandomForestRegressor\n",
        "from sklearn.model_selection import GridSearchCV\n",
        "from sklearn.preprocessing import StandardScaler\n",
        "from sklearn.tree import DecisionTreeClassifier\n",
        "from sklearn.ensemble import RandomForestClassifier\n",
        "from sklearn.svm import SVC\n",
        "from sklearn.neighbors import KNeighborsClassifier\n",
        "from sklearn.metrics import confusion_matrix\n",
        "import matplotlib.pyplot as plt\n",
        "from zipfile import ZipFile"
      ],
      "metadata": {
        "id": "ND8QkPKLUFkc"
      },
      "execution_count": 1,
      "outputs": []
    },
    {
      "cell_type": "code",
      "source": [
        "zip_file_path = \"/content/online_news_popularity.zip\"\n",
        "# Extract the CSV file from the zip\n",
        "# Extract the CSV file from the zip\n",
        "with ZipFile(zip_file_path, 'r') as zip_ref:\n",
        "  # Get the names of all files in the zip\n",
        "  file_names = zip_ref.namelist()\n",
        "\n",
        "  # Find the CSV file name (assuming there's only one)\n",
        "  csv_file = [name for name in file_names if name.endswith(\".csv\")][0]\n",
        "\n",
        "  # Extract the CSV file to a temporary location (optional)\n",
        "  # zip_ref.extract(csv_file)  # Uncomment if needed\n",
        "\n",
        "  # Read the CSV data directly from the zip using ZipFile.open\n",
        "  with zip_ref.open(csv_file) as csv_file:\n",
        "    data = pd.read_csv(csv_file)\n",
        "\n",
        "# Print the DataFrame head (first few rows)\n",
        "print(data.head())"
      ],
      "metadata": {
        "colab": {
          "base_uri": "https://localhost:8080/"
        },
        "id": "N0l9lgxpUG_C",
        "outputId": "9d6105b5-2175-48a0-c718-b13f86f4f877"
      },
      "execution_count": 2,
      "outputs": [
        {
          "output_type": "stream",
          "name": "stdout",
          "text": [
            "                                                 url   timedelta  \\\n",
            "0  http://mashable.com/2013/01/07/amazon-instant-...       731.0   \n",
            "1  http://mashable.com/2013/01/07/ap-samsung-spon...       731.0   \n",
            "2  http://mashable.com/2013/01/07/apple-40-billio...       731.0   \n",
            "3  http://mashable.com/2013/01/07/astronaut-notre...       731.0   \n",
            "4   http://mashable.com/2013/01/07/att-u-verse-apps/       731.0   \n",
            "\n",
            "    n_tokens_title   n_tokens_content   n_unique_tokens   n_non_stop_words  \\\n",
            "0             12.0              219.0          0.663594                1.0   \n",
            "1              9.0              255.0          0.604743                1.0   \n",
            "2              9.0              211.0          0.575130                1.0   \n",
            "3              9.0              531.0          0.503788                1.0   \n",
            "4             13.0             1072.0          0.415646                1.0   \n",
            "\n",
            "    n_non_stop_unique_tokens   num_hrefs   num_self_hrefs   num_imgs  ...  \\\n",
            "0                   0.815385         4.0              2.0        1.0  ...   \n",
            "1                   0.791946         3.0              1.0        1.0  ...   \n",
            "2                   0.663866         3.0              1.0        1.0  ...   \n",
            "3                   0.665635         9.0              0.0        1.0  ...   \n",
            "4                   0.540890        19.0             19.0       20.0  ...   \n",
            "\n",
            "    min_positive_polarity   max_positive_polarity   avg_negative_polarity  \\\n",
            "0                0.100000                     0.7               -0.350000   \n",
            "1                0.033333                     0.7               -0.118750   \n",
            "2                0.100000                     1.0               -0.466667   \n",
            "3                0.136364                     0.8               -0.369697   \n",
            "4                0.033333                     1.0               -0.220192   \n",
            "\n",
            "    min_negative_polarity   max_negative_polarity   title_subjectivity  \\\n",
            "0                  -0.600               -0.200000             0.500000   \n",
            "1                  -0.125               -0.100000             0.000000   \n",
            "2                  -0.800               -0.133333             0.000000   \n",
            "3                  -0.600               -0.166667             0.000000   \n",
            "4                  -0.500               -0.050000             0.454545   \n",
            "\n",
            "    title_sentiment_polarity   abs_title_subjectivity  \\\n",
            "0                  -0.187500                 0.000000   \n",
            "1                   0.000000                 0.500000   \n",
            "2                   0.000000                 0.500000   \n",
            "3                   0.000000                 0.500000   \n",
            "4                   0.136364                 0.045455   \n",
            "\n",
            "    abs_title_sentiment_polarity   shares  \n",
            "0                       0.187500      593  \n",
            "1                       0.000000      711  \n",
            "2                       0.000000     1500  \n",
            "3                       0.000000     1200  \n",
            "4                       0.136364      505  \n",
            "\n",
            "[5 rows x 61 columns]\n"
          ]
        }
      ]
    },
    {
      "cell_type": "code",
      "source": [
        "print(data.describe())"
      ],
      "metadata": {
        "colab": {
          "base_uri": "https://localhost:8080/"
        },
        "id": "4LiIiLgdcLZn",
        "outputId": "30abda5a-eef7-4fe3-b3f8-8cb0d5942c58"
      },
      "execution_count": null,
      "outputs": [
        {
          "output_type": "stream",
          "name": "stdout",
          "text": [
            "          timedelta   n_tokens_title   n_tokens_content   n_unique_tokens  \\\n",
            "count  39644.000000     39644.000000       39644.000000      39644.000000   \n",
            "mean     354.530471        10.398749         546.514731          0.548216   \n",
            "std      214.163767         2.114037         471.107508          3.520708   \n",
            "min        8.000000         2.000000           0.000000          0.000000   \n",
            "25%      164.000000         9.000000         246.000000          0.470870   \n",
            "50%      339.000000        10.000000         409.000000          0.539226   \n",
            "75%      542.000000        12.000000         716.000000          0.608696   \n",
            "max      731.000000        23.000000        8474.000000        701.000000   \n",
            "\n",
            "        n_non_stop_words   n_non_stop_unique_tokens     num_hrefs  \\\n",
            "count       39644.000000               39644.000000  39644.000000   \n",
            "mean            0.996469                   0.689175     10.883690   \n",
            "std             5.231231                   3.264816     11.332017   \n",
            "min             0.000000                   0.000000      0.000000   \n",
            "25%             1.000000                   0.625739      4.000000   \n",
            "50%             1.000000                   0.690476      8.000000   \n",
            "75%             1.000000                   0.754630     14.000000   \n",
            "max          1042.000000                 650.000000    304.000000   \n",
            "\n",
            "        num_self_hrefs      num_imgs    num_videos  ...  \\\n",
            "count     39644.000000  39644.000000  39644.000000  ...   \n",
            "mean          3.293638      4.544143      1.249874  ...   \n",
            "std           3.855141      8.309434      4.107855  ...   \n",
            "min           0.000000      0.000000      0.000000  ...   \n",
            "25%           1.000000      1.000000      0.000000  ...   \n",
            "50%           3.000000      1.000000      0.000000  ...   \n",
            "75%           4.000000      4.000000      1.000000  ...   \n",
            "max         116.000000    128.000000     91.000000  ...   \n",
            "\n",
            "        min_positive_polarity   max_positive_polarity   avg_negative_polarity  \\\n",
            "count            39644.000000            39644.000000            39644.000000   \n",
            "mean                 0.095446                0.756728               -0.259524   \n",
            "std                  0.071315                0.247786                0.127726   \n",
            "min                  0.000000                0.000000               -1.000000   \n",
            "25%                  0.050000                0.600000               -0.328383   \n",
            "50%                  0.100000                0.800000               -0.253333   \n",
            "75%                  0.100000                1.000000               -0.186905   \n",
            "max                  1.000000                1.000000                0.000000   \n",
            "\n",
            "        min_negative_polarity   max_negative_polarity   title_subjectivity  \\\n",
            "count            39644.000000            39644.000000         39644.000000   \n",
            "mean                -0.521944               -0.107500             0.282353   \n",
            "std                  0.290290                0.095373             0.324247   \n",
            "min                 -1.000000               -1.000000             0.000000   \n",
            "25%                 -0.700000               -0.125000             0.000000   \n",
            "50%                 -0.500000               -0.100000             0.150000   \n",
            "75%                 -0.300000               -0.050000             0.500000   \n",
            "max                  0.000000                0.000000             1.000000   \n",
            "\n",
            "        title_sentiment_polarity   abs_title_subjectivity  \\\n",
            "count               39644.000000             39644.000000   \n",
            "mean                    0.071425                 0.341843   \n",
            "std                     0.265450                 0.188791   \n",
            "min                    -1.000000                 0.000000   \n",
            "25%                     0.000000                 0.166667   \n",
            "50%                     0.000000                 0.500000   \n",
            "75%                     0.150000                 0.500000   \n",
            "max                     1.000000                 0.500000   \n",
            "\n",
            "        abs_title_sentiment_polarity         shares  \n",
            "count                   39644.000000   39644.000000  \n",
            "mean                        0.156064    3395.380184  \n",
            "std                         0.226294   11626.950749  \n",
            "min                         0.000000       1.000000  \n",
            "25%                         0.000000     946.000000  \n",
            "50%                         0.000000    1400.000000  \n",
            "75%                         0.250000    2800.000000  \n",
            "max                         1.000000  843300.000000  \n",
            "\n",
            "[8 rows x 60 columns]\n"
          ]
        }
      ]
    },
    {
      "cell_type": "code",
      "source": [
        "# choose features and target\n",
        "X = data.iloc[:, 2:60]  # all columns except url and target\n",
        "y = data.iloc[:, -1].values.ravel()\n",
        "\n",
        "# train test split\n",
        "X_train, X_test, y_train, y_test = train_test_split(X, y, test_size=0.2, shuffle=True)"
      ],
      "metadata": {
        "id": "zcIQEYNSVeCg"
      },
      "execution_count": 3,
      "outputs": []
    },
    {
      "cell_type": "code",
      "source": [
        "linear_reg = LinearRegression()\n",
        "logistic_reg = LogisticRegression()\n",
        "lasso_reg = Lasso()\n",
        "ridge_reg = Ridge()\n",
        "random_forest_reg = RandomForestRegressor()\n",
        "\n",
        "models = {\n",
        "    \"linear_reg\" : linear_reg,\n",
        "    \"logistic_reg\": logistic_reg,\n",
        "    \"lasso_reg\": lasso_reg,\n",
        "    \"ridge_reg\": ridge_reg,\n",
        "    \"random_forest_reg\":random_forest_reg\n",
        "}"
      ],
      "metadata": {
        "id": "zVK33gAJUNnD"
      },
      "execution_count": 5,
      "outputs": []
    },
    {
      "cell_type": "markdown",
      "source": [],
      "metadata": {
        "id": "WOVb3kfmgJ6W"
      }
    },
    {
      "cell_type": "code",
      "source": [
        "param_grids = {\n",
        "    \"linear_reg\": {},\n",
        "    \"logistic_reg\": {\"C\": [0.1, 1, 10]},\n",
        "    \"lasso_reg\": {\"alpha\": [0.1, 1, 10]},\n",
        "    \"ridge_reg\": {\"alpha\": [0.1, 1, 10]},\n",
        "    \"random_forest_reg\": {\"n_estimators\": [10, 50, 100]}\n",
        "}\n",
        "\n",
        "# Perform grid search with cross-validation for each model\n",
        "for model_name, model in models.items():\n",
        "    grid_search = GridSearchCV(model, param_grids[model_name], cv=5, scoring=\"neg_mean_squared_error\")\n",
        "    grid_search.fit(X_train, y_train)\n",
        "\n",
        "    # Print the best parameters and score for each model\n",
        "    best_params = grid_search.best_params_\n",
        "    best_score = grid_search.best_score_\n",
        "    print(f\"Model: {model_name}\")\n",
        "    print(f\"Best parameters: {best_params}\")\n",
        "    print(f\"Best score (negative mean squared error): {best_score}\")\n",
        "\n",
        "    # Train the model with the best parameters on the entire training set\n",
        "    best_model = grid_search.best_estimator_\n",
        "    best_model.fit(X_train, y_train)\n",
        "\n",
        "    # Evaluate the model on the test set\n",
        "    test_score = best_model.score(X_test, y_test)\n",
        "    print(f\"Test score: {test_score}\")\n"
      ],
      "metadata": {
        "colab": {
          "base_uri": "https://localhost:8080/"
        },
        "id": "ss7JSb_GgbLk",
        "outputId": "a242ad9c-6ab5-4710-ee9c-6ab743dfd17c"
      },
      "execution_count": 6,
      "outputs": [
        {
          "output_type": "stream",
          "name": "stdout",
          "text": [
            "Model: linear_reg\n",
            "Best parameters: {}\n",
            "Best score (negative mean squared error): -157843068.32818705\n",
            "Test score: 0.014716422233365334\n"
          ]
        },
        {
          "output_type": "stream",
          "name": "stderr",
          "text": [
            "/usr/local/lib/python3.10/dist-packages/sklearn/model_selection/_split.py:700: UserWarning: The least populated class in y has only 1 members, which is less than n_splits=5.\n",
            "  warnings.warn(\n",
            "/usr/local/lib/python3.10/dist-packages/sklearn/linear_model/_logistic.py:458: ConvergenceWarning: lbfgs failed to converge (status=1):\n",
            "STOP: TOTAL NO. of ITERATIONS REACHED LIMIT.\n",
            "\n",
            "Increase the number of iterations (max_iter) or scale the data as shown in:\n",
            "    https://scikit-learn.org/stable/modules/preprocessing.html\n",
            "Please also refer to the documentation for alternative solver options:\n",
            "    https://scikit-learn.org/stable/modules/linear_model.html#logistic-regression\n",
            "  n_iter_i = _check_optimize_result(\n",
            "/usr/local/lib/python3.10/dist-packages/sklearn/linear_model/_logistic.py:458: ConvergenceWarning: lbfgs failed to converge (status=1):\n",
            "STOP: TOTAL NO. of ITERATIONS REACHED LIMIT.\n",
            "\n",
            "Increase the number of iterations (max_iter) or scale the data as shown in:\n",
            "    https://scikit-learn.org/stable/modules/preprocessing.html\n",
            "Please also refer to the documentation for alternative solver options:\n",
            "    https://scikit-learn.org/stable/modules/linear_model.html#logistic-regression\n",
            "  n_iter_i = _check_optimize_result(\n",
            "/usr/local/lib/python3.10/dist-packages/sklearn/linear_model/_logistic.py:458: ConvergenceWarning: lbfgs failed to converge (status=1):\n",
            "STOP: TOTAL NO. of ITERATIONS REACHED LIMIT.\n",
            "\n",
            "Increase the number of iterations (max_iter) or scale the data as shown in:\n",
            "    https://scikit-learn.org/stable/modules/preprocessing.html\n",
            "Please also refer to the documentation for alternative solver options:\n",
            "    https://scikit-learn.org/stable/modules/linear_model.html#logistic-regression\n",
            "  n_iter_i = _check_optimize_result(\n",
            "/usr/local/lib/python3.10/dist-packages/sklearn/linear_model/_logistic.py:458: ConvergenceWarning: lbfgs failed to converge (status=1):\n",
            "STOP: TOTAL NO. of ITERATIONS REACHED LIMIT.\n",
            "\n",
            "Increase the number of iterations (max_iter) or scale the data as shown in:\n",
            "    https://scikit-learn.org/stable/modules/preprocessing.html\n",
            "Please also refer to the documentation for alternative solver options:\n",
            "    https://scikit-learn.org/stable/modules/linear_model.html#logistic-regression\n",
            "  n_iter_i = _check_optimize_result(\n",
            "/usr/local/lib/python3.10/dist-packages/sklearn/linear_model/_logistic.py:458: ConvergenceWarning: lbfgs failed to converge (status=1):\n",
            "STOP: TOTAL NO. of ITERATIONS REACHED LIMIT.\n",
            "\n",
            "Increase the number of iterations (max_iter) or scale the data as shown in:\n",
            "    https://scikit-learn.org/stable/modules/preprocessing.html\n",
            "Please also refer to the documentation for alternative solver options:\n",
            "    https://scikit-learn.org/stable/modules/linear_model.html#logistic-regression\n",
            "  n_iter_i = _check_optimize_result(\n",
            "/usr/local/lib/python3.10/dist-packages/sklearn/linear_model/_logistic.py:458: ConvergenceWarning: lbfgs failed to converge (status=1):\n",
            "STOP: TOTAL NO. of ITERATIONS REACHED LIMIT.\n",
            "\n",
            "Increase the number of iterations (max_iter) or scale the data as shown in:\n",
            "    https://scikit-learn.org/stable/modules/preprocessing.html\n",
            "Please also refer to the documentation for alternative solver options:\n",
            "    https://scikit-learn.org/stable/modules/linear_model.html#logistic-regression\n",
            "  n_iter_i = _check_optimize_result(\n",
            "/usr/local/lib/python3.10/dist-packages/sklearn/linear_model/_logistic.py:458: ConvergenceWarning: lbfgs failed to converge (status=1):\n",
            "STOP: TOTAL NO. of ITERATIONS REACHED LIMIT.\n",
            "\n",
            "Increase the number of iterations (max_iter) or scale the data as shown in:\n",
            "    https://scikit-learn.org/stable/modules/preprocessing.html\n",
            "Please also refer to the documentation for alternative solver options:\n",
            "    https://scikit-learn.org/stable/modules/linear_model.html#logistic-regression\n",
            "  n_iter_i = _check_optimize_result(\n",
            "/usr/local/lib/python3.10/dist-packages/sklearn/linear_model/_logistic.py:458: ConvergenceWarning: lbfgs failed to converge (status=1):\n",
            "STOP: TOTAL NO. of ITERATIONS REACHED LIMIT.\n",
            "\n",
            "Increase the number of iterations (max_iter) or scale the data as shown in:\n",
            "    https://scikit-learn.org/stable/modules/preprocessing.html\n",
            "Please also refer to the documentation for alternative solver options:\n",
            "    https://scikit-learn.org/stable/modules/linear_model.html#logistic-regression\n",
            "  n_iter_i = _check_optimize_result(\n",
            "/usr/local/lib/python3.10/dist-packages/sklearn/linear_model/_logistic.py:458: ConvergenceWarning: lbfgs failed to converge (status=1):\n",
            "STOP: TOTAL NO. of ITERATIONS REACHED LIMIT.\n",
            "\n",
            "Increase the number of iterations (max_iter) or scale the data as shown in:\n",
            "    https://scikit-learn.org/stable/modules/preprocessing.html\n",
            "Please also refer to the documentation for alternative solver options:\n",
            "    https://scikit-learn.org/stable/modules/linear_model.html#logistic-regression\n",
            "  n_iter_i = _check_optimize_result(\n",
            "/usr/local/lib/python3.10/dist-packages/sklearn/linear_model/_logistic.py:458: ConvergenceWarning: lbfgs failed to converge (status=1):\n",
            "STOP: TOTAL NO. of ITERATIONS REACHED LIMIT.\n",
            "\n",
            "Increase the number of iterations (max_iter) or scale the data as shown in:\n",
            "    https://scikit-learn.org/stable/modules/preprocessing.html\n",
            "Please also refer to the documentation for alternative solver options:\n",
            "    https://scikit-learn.org/stable/modules/linear_model.html#logistic-regression\n",
            "  n_iter_i = _check_optimize_result(\n",
            "/usr/local/lib/python3.10/dist-packages/sklearn/linear_model/_logistic.py:458: ConvergenceWarning: lbfgs failed to converge (status=1):\n",
            "STOP: TOTAL NO. of ITERATIONS REACHED LIMIT.\n",
            "\n",
            "Increase the number of iterations (max_iter) or scale the data as shown in:\n",
            "    https://scikit-learn.org/stable/modules/preprocessing.html\n",
            "Please also refer to the documentation for alternative solver options:\n",
            "    https://scikit-learn.org/stable/modules/linear_model.html#logistic-regression\n",
            "  n_iter_i = _check_optimize_result(\n",
            "/usr/local/lib/python3.10/dist-packages/sklearn/linear_model/_logistic.py:458: ConvergenceWarning: lbfgs failed to converge (status=1):\n",
            "STOP: TOTAL NO. of ITERATIONS REACHED LIMIT.\n",
            "\n",
            "Increase the number of iterations (max_iter) or scale the data as shown in:\n",
            "    https://scikit-learn.org/stable/modules/preprocessing.html\n",
            "Please also refer to the documentation for alternative solver options:\n",
            "    https://scikit-learn.org/stable/modules/linear_model.html#logistic-regression\n",
            "  n_iter_i = _check_optimize_result(\n",
            "/usr/local/lib/python3.10/dist-packages/sklearn/linear_model/_logistic.py:458: ConvergenceWarning: lbfgs failed to converge (status=1):\n",
            "STOP: TOTAL NO. of ITERATIONS REACHED LIMIT.\n",
            "\n",
            "Increase the number of iterations (max_iter) or scale the data as shown in:\n",
            "    https://scikit-learn.org/stable/modules/preprocessing.html\n",
            "Please also refer to the documentation for alternative solver options:\n",
            "    https://scikit-learn.org/stable/modules/linear_model.html#logistic-regression\n",
            "  n_iter_i = _check_optimize_result(\n",
            "/usr/local/lib/python3.10/dist-packages/sklearn/linear_model/_logistic.py:458: ConvergenceWarning: lbfgs failed to converge (status=1):\n",
            "STOP: TOTAL NO. of ITERATIONS REACHED LIMIT.\n",
            "\n",
            "Increase the number of iterations (max_iter) or scale the data as shown in:\n",
            "    https://scikit-learn.org/stable/modules/preprocessing.html\n",
            "Please also refer to the documentation for alternative solver options:\n",
            "    https://scikit-learn.org/stable/modules/linear_model.html#logistic-regression\n",
            "  n_iter_i = _check_optimize_result(\n",
            "/usr/local/lib/python3.10/dist-packages/sklearn/linear_model/_logistic.py:458: ConvergenceWarning: lbfgs failed to converge (status=1):\n",
            "STOP: TOTAL NO. of ITERATIONS REACHED LIMIT.\n",
            "\n",
            "Increase the number of iterations (max_iter) or scale the data as shown in:\n",
            "    https://scikit-learn.org/stable/modules/preprocessing.html\n",
            "Please also refer to the documentation for alternative solver options:\n",
            "    https://scikit-learn.org/stable/modules/linear_model.html#logistic-regression\n",
            "  n_iter_i = _check_optimize_result(\n",
            "/usr/local/lib/python3.10/dist-packages/sklearn/linear_model/_logistic.py:458: ConvergenceWarning: lbfgs failed to converge (status=1):\n",
            "STOP: TOTAL NO. of ITERATIONS REACHED LIMIT.\n",
            "\n",
            "Increase the number of iterations (max_iter) or scale the data as shown in:\n",
            "    https://scikit-learn.org/stable/modules/preprocessing.html\n",
            "Please also refer to the documentation for alternative solver options:\n",
            "    https://scikit-learn.org/stable/modules/linear_model.html#logistic-regression\n",
            "  n_iter_i = _check_optimize_result(\n"
          ]
        },
        {
          "output_type": "stream",
          "name": "stdout",
          "text": [
            "Model: logistic_reg\n",
            "Best parameters: {'C': 0.1}\n",
            "Best score (negative mean squared error): -131106885.81478795\n"
          ]
        },
        {
          "output_type": "stream",
          "name": "stderr",
          "text": [
            "/usr/local/lib/python3.10/dist-packages/sklearn/linear_model/_logistic.py:458: ConvergenceWarning: lbfgs failed to converge (status=1):\n",
            "STOP: TOTAL NO. of ITERATIONS REACHED LIMIT.\n",
            "\n",
            "Increase the number of iterations (max_iter) or scale the data as shown in:\n",
            "    https://scikit-learn.org/stable/modules/preprocessing.html\n",
            "Please also refer to the documentation for alternative solver options:\n",
            "    https://scikit-learn.org/stable/modules/linear_model.html#logistic-regression\n",
            "  n_iter_i = _check_optimize_result(\n"
          ]
        },
        {
          "output_type": "stream",
          "name": "stdout",
          "text": [
            "Test score: 0.05435742212132678\n"
          ]
        },
        {
          "output_type": "stream",
          "name": "stderr",
          "text": [
            "/usr/local/lib/python3.10/dist-packages/sklearn/linear_model/_coordinate_descent.py:631: ConvergenceWarning: Objective did not converge. You might want to increase the number of iterations, check the scale of the features or consider increasing regularisation. Duality gap: 1.782e+12, tolerance: 3.657e+08\n",
            "  model = cd_fast.enet_coordinate_descent(\n",
            "/usr/local/lib/python3.10/dist-packages/sklearn/linear_model/_coordinate_descent.py:631: ConvergenceWarning: Objective did not converge. You might want to increase the number of iterations, check the scale of the features or consider increasing regularisation. Duality gap: 1.577e+12, tolerance: 3.248e+08\n",
            "  model = cd_fast.enet_coordinate_descent(\n",
            "/usr/local/lib/python3.10/dist-packages/sklearn/linear_model/_coordinate_descent.py:631: ConvergenceWarning: Objective did not converge. You might want to increase the number of iterations, check the scale of the features or consider increasing regularisation. Duality gap: 1.463e+12, tolerance: 3.010e+08\n",
            "  model = cd_fast.enet_coordinate_descent(\n",
            "/usr/local/lib/python3.10/dist-packages/sklearn/linear_model/_coordinate_descent.py:631: ConvergenceWarning: Objective did not converge. You might want to increase the number of iterations, check the scale of the features or consider increasing regularisation. Duality gap: 1.565e+12, tolerance: 3.219e+08\n",
            "  model = cd_fast.enet_coordinate_descent(\n",
            "/usr/local/lib/python3.10/dist-packages/sklearn/linear_model/_coordinate_descent.py:631: ConvergenceWarning: Objective did not converge. You might want to increase the number of iterations, check the scale of the features or consider increasing regularisation. Duality gap: 1.751e+12, tolerance: 3.657e+08\n",
            "  model = cd_fast.enet_coordinate_descent(\n",
            "/usr/local/lib/python3.10/dist-packages/sklearn/linear_model/_coordinate_descent.py:631: ConvergenceWarning: Objective did not converge. You might want to increase the number of iterations, check the scale of the features or consider increasing regularisation. Duality gap: 1.532e+12, tolerance: 3.248e+08\n",
            "  model = cd_fast.enet_coordinate_descent(\n",
            "/usr/local/lib/python3.10/dist-packages/sklearn/linear_model/_coordinate_descent.py:631: ConvergenceWarning: Objective did not converge. You might want to increase the number of iterations, check the scale of the features or consider increasing regularisation. Duality gap: 1.458e+12, tolerance: 3.010e+08\n",
            "  model = cd_fast.enet_coordinate_descent(\n",
            "/usr/local/lib/python3.10/dist-packages/sklearn/linear_model/_coordinate_descent.py:631: ConvergenceWarning: Objective did not converge. You might want to increase the number of iterations, check the scale of the features or consider increasing regularisation. Duality gap: 1.534e+12, tolerance: 3.219e+08\n",
            "  model = cd_fast.enet_coordinate_descent(\n"
          ]
        },
        {
          "output_type": "stream",
          "name": "stdout",
          "text": [
            "Model: lasso_reg\n",
            "Best parameters: {'alpha': 10}\n",
            "Best score (negative mean squared error): -134772690.83866498\n",
            "Test score: 0.015497879266852976\n"
          ]
        },
        {
          "output_type": "stream",
          "name": "stderr",
          "text": [
            "/usr/local/lib/python3.10/dist-packages/sklearn/linear_model/_ridge.py:216: LinAlgWarning: Ill-conditioned matrix (rcond=5.48616e-17): result may not be accurate.\n",
            "  return linalg.solve(A, Xy, assume_a=\"pos\", overwrite_a=True).T\n",
            "/usr/local/lib/python3.10/dist-packages/sklearn/linear_model/_ridge.py:216: LinAlgWarning: Ill-conditioned matrix (rcond=5.53479e-17): result may not be accurate.\n",
            "  return linalg.solve(A, Xy, assume_a=\"pos\", overwrite_a=True).T\n",
            "/usr/local/lib/python3.10/dist-packages/sklearn/linear_model/_ridge.py:216: LinAlgWarning: Ill-conditioned matrix (rcond=5.5553e-17): result may not be accurate.\n",
            "  return linalg.solve(A, Xy, assume_a=\"pos\", overwrite_a=True).T\n",
            "/usr/local/lib/python3.10/dist-packages/sklearn/linear_model/_ridge.py:216: LinAlgWarning: Ill-conditioned matrix (rcond=5.41667e-17): result may not be accurate.\n",
            "  return linalg.solve(A, Xy, assume_a=\"pos\", overwrite_a=True).T\n",
            "/usr/local/lib/python3.10/dist-packages/sklearn/linear_model/_ridge.py:216: LinAlgWarning: Ill-conditioned matrix (rcond=5.459e-17): result may not be accurate.\n",
            "  return linalg.solve(A, Xy, assume_a=\"pos\", overwrite_a=True).T\n",
            "/usr/local/lib/python3.10/dist-packages/sklearn/linear_model/_ridge.py:216: LinAlgWarning: Ill-conditioned matrix (rcond=4.39196e-17): result may not be accurate.\n",
            "  return linalg.solve(A, Xy, assume_a=\"pos\", overwrite_a=True).T\n",
            "/usr/local/lib/python3.10/dist-packages/sklearn/linear_model/_ridge.py:216: LinAlgWarning: Ill-conditioned matrix (rcond=4.39196e-17): result may not be accurate.\n",
            "  return linalg.solve(A, Xy, assume_a=\"pos\", overwrite_a=True).T\n"
          ]
        },
        {
          "output_type": "stream",
          "name": "stdout",
          "text": [
            "Model: ridge_reg\n",
            "Best parameters: {'alpha': 0.1}\n",
            "Best score (negative mean squared error): -180081126.5782509\n",
            "Test score: 0.01471716570889725\n",
            "Model: random_forest_reg\n",
            "Best parameters: {'n_estimators': 50}\n",
            "Best score (negative mean squared error): -139934689.6662972\n",
            "Test score: -0.09628774466166812\n"
          ]
        }
      ]
    },
    {
      "cell_type": "code",
      "source": [
        "accuracies_regr = {\n",
        "    \"linear_reg\": {\"best_score\": -157843068.32818705, \"test_score\": 0.014716422233365334},\n",
        "    \"logistic_reg\": {\"best_score\": -131106885.81478795, \"test_score\": 0.02497879266852976},\n",
        "    \"lasso_reg\": {\"best_score\": -134772690.83866498, \"test_score\": 0.015497879266852976},\n",
        "    \"ridge_reg\": {\"best_score\": -180081126.5782509, \"test_score\": 0.01471716570889725},\n",
        "    \"random_forest_reg\": {\"best_score\": -139934689.6662972, \"test_score\": -0.09628774466166812},\n",
        "}\n",
        "\n",
        "mse_regr = {  # Assuming mse_regr holds the negative mean squared error values\n",
        "    \"linear_reg\": -157843068.32818705,\n",
        "    \"logistic_reg\": -131106885.81478795,\n",
        "    \"lasso_reg\": -134772690.83866498,\n",
        "    \"ridge_reg\": -180081126.5782509,\n",
        "    \"random_forest_reg\": -139934689.6662972,\n",
        "}"
      ],
      "metadata": {
        "id": "QQm2VuJtyuFc"
      },
      "execution_count": 14,
      "outputs": []
    },
    {
      "cell_type": "code",
      "source": [],
      "metadata": {
        "id": "XihcgVFA0Wto"
      },
      "execution_count": 12,
      "outputs": []
    },
    {
      "cell_type": "code",
      "source": [
        "# prompt: draw  best & test score bar graph for the data\n",
        "\n",
        "# Prepare data for the bar graph\n",
        "model_names = list(accuracies_regr.keys())\n",
        "best_scores = [accuracies_regr[model][\"best_score\"] for model in model_names]\n",
        "test_scores = [accuracies_regr[model][\"test_score\"] for model in model_names]\n",
        "\n",
        "# Create the bar graph\n",
        "plt.figure(figsize=(15, 7))\n",
        "width = 0.35\n",
        "x_positions = np.arange(len(model_names))\n",
        "\n",
        "plt.bar(x_positions - width/2, best_scores, width, label=\"Best Score\", color=\"thistle\")\n",
        "\n",
        "plt.xticks(x_positions, model_names)\n",
        "plt.xlabel(\"Model\", fontsize=14)\n",
        "plt.ylabel(\"Score\", fontsize=14)\n",
        "plt.title(\"Best Scores for Regression Models\", fontsize=16)\n",
        "plt.legend(fontsize=12)\n",
        "plt.tight_layout()\n",
        "plt.show()\n"
      ],
      "metadata": {
        "colab": {
          "base_uri": "https://localhost:8080/",
          "height": 727
        },
        "id": "SrM4E0JNztHK",
        "outputId": "5941bd50-f916-4443-b8c1-f252c7c9aaea"
      },
      "execution_count": 18,
      "outputs": [
        {
          "output_type": "display_data",
          "data": {
            "text/plain": [
              "<Figure size 1500x700 with 1 Axes>"
            ],
            "image/png": "[encoded data removed]"
          },
          "metadata": {}
        }
      ]
    },
    {
      "cell_type": "code",
      "source": [
        "# Create the bar graph\n",
        "plt.figure(figsize=(15, 7))\n",
        "width = 0.35\n",
        "x_positions = np.arange(len(model_names))\n",
        "\n",
        "plt.bar(x_positions - width/2, test_scores, width, label=\"Test Score\", color=\"thistle\")\n",
        "\n",
        "plt.xticks(x_positions, model_names)\n",
        "plt.xlabel(\"Model\", fontsize=14)\n",
        "plt.ylabel(\"Score\", fontsize=14)\n",
        "plt.title(\"Test Scores for Regression Models\", fontsize=16)\n",
        "plt.legend(fontsize=12)\n",
        "plt.tight_layout()\n",
        "plt.show()"
      ],
      "metadata": {
        "colab": {
          "base_uri": "https://localhost:8080/",
          "height": 490
        },
        "id": "BvW0-AhZ0xLI",
        "outputId": "bf6d76cf-8430-4cfd-8213-2fcdef97955d"
      },
      "execution_count": 19,
      "outputs": [
        {
          "output_type": "display_data",
          "data": {
            "text/plain": [
              "<Figure size 1500x700 with 1 Axes>"
            ],
            "image/png": "[encoded data removed]"
          },
          "metadata": {}
        }
      ]
    },
    {
      "cell_type": "markdown",
      "source": [
        "## Classification"
      ],
      "metadata": {
        "id": "1-gVN78UjMV1"
      }
    },
    {
      "cell_type": "code",
      "source": [],
      "metadata": {
        "id": "UFgQeub4jLEU"
      },
      "execution_count": null,
      "outputs": []
    },
    {
      "cell_type": "code",
      "source": [],
      "metadata": {
        "id": "aKCnOgjajLBy"
      },
      "execution_count": null,
      "outputs": []
    },
    {
      "cell_type": "code",
      "source": [],
      "metadata": {
        "id": "Dp6W2nEUjK_X"
      },
      "execution_count": null,
      "outputs": []
    },
    {
      "cell_type": "code",
      "source": [],
      "metadata": {
        "id": "6NBLvwbhjK8v"
      },
      "execution_count": null,
      "outputs": []
    },
    {
      "cell_type": "code",
      "source": [],
      "metadata": {
        "id": "wVyKQpv5jK6a"
      },
      "execution_count": null,
      "outputs": []
    },
    {
      "cell_type": "code",
      "source": [],
      "metadata": {
        "id": "MDSENN8_jK3z"
      },
      "execution_count": null,
      "outputs": []
    },
    {
      "cell_type": "code",
      "source": [],
      "metadata": {
        "id": "QL5fFplojK07"
      },
      "execution_count": null,
      "outputs": []
    },
    {
      "cell_type": "code",
      "source": [],
      "metadata": {
        "id": "GxdX3cFajKvu"
      },
      "execution_count": null,
      "outputs": []
    },
    {
      "cell_type": "code",
      "source": [],
      "metadata": {
        "id": "nZLehlyJjKtH"
      },
      "execution_count": null,
      "outputs": []
    },
    {
      "cell_type": "code",
      "source": [],
      "metadata": {
        "id": "jyFP5QBujKlU"
      },
      "execution_count": null,
      "outputs": []
    },
    {
      "cell_type": "code",
      "source": [],
      "metadata": {
        "id": "ws_QAGPWjKi-"
      },
      "execution_count": null,
      "outputs": []
    },
    {
      "cell_type": "code",
      "source": [],
      "metadata": {
        "id": "9zeBQyQpjKgG"
      },
      "execution_count": null,
      "outputs": []
    },
    {
      "cell_type": "code",
      "source": [],
      "metadata": {
        "id": "KD1R_7_vjKdn"
      },
      "execution_count": null,
      "outputs": []
    },
    {
      "cell_type": "code",
      "source": [],
      "metadata": {
        "id": "jaFhf1MkjKV7"
      },
      "execution_count": null,
      "outputs": []
    },
    {
      "cell_type": "code",
      "source": [
        "from sklearn.tree import DecisionTreeClassifier\n",
        "from sklearn.neighbors import KNeighborsClassifier\n",
        "from sklearn.linear_model import SGDClassifier\n",
        "from sklearn.linear_model import RidgeClassifier"
      ],
      "metadata": {
        "id": "GXOoNRdLUP9y"
      },
      "execution_count": null,
      "outputs": []
    },
    {
      "cell_type": "code",
      "source": [
        "grid_search_rf = GridSearchCV(rf_clf, param_grid, cv=5)\n",
        "grid_search_rf.fit(X_train, y_train)\n",
        "\n",
        "best_rf_clf = grid_search_rf.best_estimator_"
      ],
      "metadata": {
        "id": "v23h1AYyUThs"
      },
      "execution_count": null,
      "outputs": []
    },
    {
      "cell_type": "code",
      "source": [
        "# Hyperparameter tuning for Decision Tree\n",
        "from sklearn.model_selection import GridSearchCV\n",
        "\n",
        "param_grid = {\n",
        "    'max_depth': range(5, 15, 5),\n",
        "    'min_samples_leaf': range(50, 150, 50),\n",
        "    'min_samples_split': range(50, 150, 50),\n",
        "}\n",
        "\n",
        "grid_search_dt = GridSearchCV(dt_clf, param_grid, cv=5)\n",
        "grid_search_dt.fit(X_train, y_train)\n",
        "\n",
        "best_dt_clf = grid_search_dt.best_estimator_\n",
        "\n",
        "# Hyperparameter tuning for KNN\n",
        "param_grid = {\n",
        "    'n_neighbors': range(1, 20),\n",
        "}\n",
        "\n",
        "grid_search_knn = GridSearchCV(knn_clf, param_grid, cv=5)\n",
        "grid_search_knn.fit(X_train, y_train)\n",
        "\n",
        "best_knn_clf = grid_search_knn.best_estimator_\n",
        "\n",
        "# Hyperparameter tuning for Random Forest\n",
        "param_grid = {\n",
        "    'n_estimators': range(100, 200, 50),\n",
        "    'max_features': range(5, 10, 5),\n",
        "    'min_samples_leaf': range(50, 150, 50),\n",
        "}\n",
        "\n",
        "grid_search_rf = GridSearchCV(rf_clf, param_grid, cv=5)\n",
        "grid_search_rf.fit(X_train, y_train)\n",
        "\n",
        "best_rf_clf = grid_search_rf.best_estimator_\n",
        "\n",
        "# Hyperparameter tuning for SGD\n",
        "param_grid = {\n",
        "    'loss': ['hinge', 'log', 'modified_huber', 'squared_hinge', 'perceptron'],\n",
        "    'penalty': ['l2', 'l1', 'elasticnet'],\n",
        "    'alpha': [0.0001, 0.001, 0.01, 0.1, 1, 10, 100],\n",
        "}\n",
        "\n",
        "grid_search_sgd = GridSearchCV(sgd_clf, param_grid, cv=5)\n",
        "grid_search_sgd.fit(X_train, y_train)\n",
        "\n",
        "best_sgd_clf = grid_search_sgd.best_estimator_\n",
        "\n",
        "# Hyperparameter tuning for Ridge\n",
        "param_grid = {\n",
        "    'alpha': [0.1, 1, 10, 100],\n",
        "}\n",
        "\n",
        "grid_search_rd = GridSearchCV(rd_clf, param_grid, cv=5)\n",
        "grid_search_rd.fit(X_train, y_train)\n",
        "\n",
        "best_rd_clf = grid_search_rd.best_estimator_\n",
        "\n",
        "# Evaluate the optimized models\n",
        "y_pred_dt = best_dt_clf.predict(X_test)\n",
        "y_pred_knn = best_knn_clf.predict(X_test)\n",
        "y_pred_rf = best_rf_clf.predict(X_test)\n",
        "y_pred_sgd = best_sgd_clf.predict(X_test)\n",
        "y_pred_rd = best_rd_clf.predict(X_test)\n",
        "\n",
        "accuracy_dt = accuracy_score(y_test, y_pred_dt)\n",
        "accuracy_knn = accuracy_score(y_test, y_pred_knn)\n",
        "accuracy_rf = accuracy_score(y_test, y_pred_rf)\n",
        "accuracy_sgd = accuracy_score(y_test, y_pred_sgd)\n",
        "accuracy_rd = accuracy_score(y_test, y_pred_rd)"
      ],
      "metadata": {
        "id": "w58X4Pi7UV15"
      },
      "execution_count": null,
      "outputs": []
    },
    {
      "cell_type": "code",
      "source": [
        "# Hyperparameter tuning for Random Forest\n",
        "param_grid = {\n",
        "    'n_estimators': range(100, 200, 50),\n",
        "    'max_features': range(5, 10, 5),\n",
        "    'min_samples_leaf': range(50, 150, 50),\n",
        "}\n",
        "\n",
        "grid_search_rf = GridSearchCV(rf_clf, param_grid, cv=5)\n",
        "grid_search_rf.fit(X_train, y_train)\n"
      ],
      "metadata": {
        "id": "vDcGzNF7UbN3"
      },
      "execution_count": null,
      "outputs": []
    },
    {
      "cell_type": "code",
      "source": [],
      "metadata": {
        "id": "T4RfBn-SUhj3"
      },
      "execution_count": null,
      "outputs": []
    },
    {
      "cell_type": "code",
      "source": [
        "models = [\n",
        "    {\n",
        "        \"model\": \"Decision Tree\",\n",
        "        \"accuracy\": accuracy_dt\n",
        "    },\n",
        "    {\n",
        "        \"model\": \"KNN\",\n",
        "        \"accuracy\": accuracy_knn\n",
        "    },\n",
        "    {\n",
        "        \"model\": \"Random Forest\",\n",
        "        \"accuracy\": accuracy_rf\n",
        "    },\n",
        "    {\n",
        "        \"model\": \"SGD\",\n",
        "        \"accuracy\": accuracy_sgd\n",
        "    },\n",
        "    {\n",
        "        \"model\": \"Ridge\",\n",
        "        \"accuracy\": accuracy_rd\n",
        "    },\n",
        "]\n",
        "df_models = pd.DataFrame(models)\n",
        "\n",
        "# Create a list of model names\n",
        "model_names = [model['model'] for model in models]\n",
        "\n",
        "# Create a list of accuracies\n",
        "accuracies = [model['accuracy'] for model in models]\n",
        "\n",
        "# Create a bar chart of the model names and accuracies\n",
        "plt.figure(figsize=(10, 6))\n",
        "sns.barplot(x=model_names, y=accuracies)\n",
        "\n",
        "# Add a title and labels to the chart\n",
        "plt.title('Accuracies for Different Models (Classification)')\n",
        "plt.xlabel('Model')\n",
        "plt.ylabel('Accuracy')\n",
        "\n",
        "# Show the chart\n",
        "plt.show()"
      ],
      "metadata": {
        "id": "y8UjSy5VUd-c"
      },
      "execution_count": null,
      "outputs": []
    }
  ]
}